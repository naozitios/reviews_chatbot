{
 "cells": [
  {
   "cell_type": "markdown",
   "metadata": {
    "id": "gI_30Ke9UROg"
   },
   "source": []
  },
  {
   "cell_type": "markdown",
   "metadata": {
    "id": "WEQLsfMiUROh"
   },
   "source": [
    "## Introduction\n",
    "\n",
    "This dataset contains consumer reviews of some selected online shopping products.\n",
    "\n",
    "**Description of the data:**\n",
    "\n",
    "- **`product_review.csv`** contains the dataset. \n",
    "- Each observation (row) in this dataset is a review of a particular product by a particular user.\n",
    "- The **date** column is the date when the review was provided.\n",
    "- The **product** column is the name of the product reviewed.\n",
    "- The **category** column is the primary category of the product reviewed.\n",
    "- The **text** column is the review text.\n",
    "- The **user** column is the name of the user who gives the review\n",
    "- The **rating** column is the number of stars (1 through 5) assigned by the reviewer to the product. (Higher stars is better.) In other words, it is the rating of the product by the user who wrote the review.\n",
    "\n",
    "**Goal**:\n",
    " - Perform some data explorations.\n",
    " - Generate training, validation, and test datasets before model building and prediction\n",
    "\n",
    "**Tip:** After each task, I recommend that you check the shape and the contents of your objects, to confirm that they match your expectations."
   ]
  },
  {
   "cell_type": "markdown",
   "metadata": {
    "id": "3SIAK2w9CAgW"
   },
   "source": [
    "## Import libraries"
   ]
  },
  {
   "cell_type": "code",
   "execution_count": 2,
   "metadata": {
    "id": "6ead8ltoB-Aa"
   },
   "outputs": [],
   "source": [
    "import math\n",
    "import warnings\n",
    "\n",
    "import numpy\n",
    "import pandas as pd\n",
    "from scipy.sparse import vstack, hstack\n",
    "import matplotlib.pyplot as plt\n",
    "from pandas.core.common import SettingWithCopyWarning\n",
    "\n",
    "from sklearn.model_selection import train_test_split\n",
    "from sklearn.feature_extraction.text import CountVectorizer\n",
    "from sklearn.dummy import DummyClassifier\n",
    "from sklearn import metrics\n",
    "from sklearn.naive_bayes import MultinomialNB\n",
    "from sklearn.preprocessing import OneHotEncoder\n",
    "from sklearn.ensemble import RandomForestClassifier, ExtraTreesClassifier\n",
    "\n",
    "# import other libraries/functions if they are needed in your coding"
   ]
  },
  {
   "cell_type": "markdown",
   "source": [
    "Read **product_review.csv** into a Pandas DataFrame and find the **user** who have written the most number of reviews."
   ],
   "metadata": {
    "collapsed": false
   }
  },
  {
   "cell_type": "code",
   "execution_count": 3,
   "outputs": [
    {
     "name": "stdout",
     "output_type": "stream",
     "text": [
      "                   text\n",
      "user                   \n",
      "ByAmazon Customer   889\n",
      "Mike                 63\n",
      "ByKindle Customer    45\n",
      "Dave                 44\n",
      "Chris                38\n",
      "The username with the most number of written reviews is Mike\n"
     ]
    }
   ],
   "source": [
    "product_review_df = pd.read_csv(\"product_review.csv\")\n",
    "print(product_review_df[['text','user']].groupby('user').count().sort_values(by='text', ascending=False).head())\n",
    "print('The username with the most number of written reviews is Mike')"
   ],
   "metadata": {
    "collapsed": false
   }
  },
  {
   "cell_type": "markdown",
   "metadata": {
    "id": "2mANk92oUROs"
   },
   "source": [
    "\n",
    "Create another column named `review_length`, which is the number of words in the review text.\n"
   ]
  },
  {
   "cell_type": "code",
   "execution_count": 4,
   "metadata": {
    "id": "PgtobEzadrhm"
   },
   "outputs": [
    {
     "data": {
      "text/plain": "                   date                                            product  \\\n0  2015-10-30T08:59:32Z  AmazonBasics AAA Performance Alkaline Batterie...   \n1  2015-10-30T08:59:32Z  AmazonBasics AAA Performance Alkaline Batterie...   \n2  2015-10-30T08:59:32Z  AmazonBasics AAA Performance Alkaline Batterie...   \n3  2015-10-30T08:59:32Z  AmazonBasics AAA Performance Alkaline Batterie...   \n4  2015-10-30T08:59:32Z  AmazonBasics AAA Performance Alkaline Batterie...   \n\n          category                                               text  \\\n0  Health & Beauty  I order 3 of them and one of the item is bad q...   \n1  Health & Beauty  Bulk is always the less expensive way to go fo...   \n2  Health & Beauty  Well they are not Duracell but for the price i...   \n3  Health & Beauty  Seem to work as well as name brand batteries a...   \n4  Health & Beauty  These batteries are very long lasting the pric...   \n\n               user  rating  review_length  \n0        Byger yang       3             31  \n1              ByMG       4             13  \n2  BySharon Lambert       5             12  \n3     Bymark sexson       5             14  \n4           Bylinda       5             10  ",
      "text/html": "<div>\n<style scoped>\n    .dataframe tbody tr th:only-of-type {\n        vertical-align: middle;\n    }\n\n    .dataframe tbody tr th {\n        vertical-align: top;\n    }\n\n    .dataframe thead th {\n        text-align: right;\n    }\n</style>\n<table border=\"1\" class=\"dataframe\">\n  <thead>\n    <tr style=\"text-align: right;\">\n      <th></th>\n      <th>date</th>\n      <th>product</th>\n      <th>category</th>\n      <th>text</th>\n      <th>user</th>\n      <th>rating</th>\n      <th>review_length</th>\n    </tr>\n  </thead>\n  <tbody>\n    <tr>\n      <th>0</th>\n      <td>2015-10-30T08:59:32Z</td>\n      <td>AmazonBasics AAA Performance Alkaline Batterie...</td>\n      <td>Health &amp; Beauty</td>\n      <td>I order 3 of them and one of the item is bad q...</td>\n      <td>Byger yang</td>\n      <td>3</td>\n      <td>31</td>\n    </tr>\n    <tr>\n      <th>1</th>\n      <td>2015-10-30T08:59:32Z</td>\n      <td>AmazonBasics AAA Performance Alkaline Batterie...</td>\n      <td>Health &amp; Beauty</td>\n      <td>Bulk is always the less expensive way to go fo...</td>\n      <td>ByMG</td>\n      <td>4</td>\n      <td>13</td>\n    </tr>\n    <tr>\n      <th>2</th>\n      <td>2015-10-30T08:59:32Z</td>\n      <td>AmazonBasics AAA Performance Alkaline Batterie...</td>\n      <td>Health &amp; Beauty</td>\n      <td>Well they are not Duracell but for the price i...</td>\n      <td>BySharon Lambert</td>\n      <td>5</td>\n      <td>12</td>\n    </tr>\n    <tr>\n      <th>3</th>\n      <td>2015-10-30T08:59:32Z</td>\n      <td>AmazonBasics AAA Performance Alkaline Batterie...</td>\n      <td>Health &amp; Beauty</td>\n      <td>Seem to work as well as name brand batteries a...</td>\n      <td>Bymark sexson</td>\n      <td>5</td>\n      <td>14</td>\n    </tr>\n    <tr>\n      <th>4</th>\n      <td>2015-10-30T08:59:32Z</td>\n      <td>AmazonBasics AAA Performance Alkaline Batterie...</td>\n      <td>Health &amp; Beauty</td>\n      <td>These batteries are very long lasting the pric...</td>\n      <td>Bylinda</td>\n      <td>5</td>\n      <td>10</td>\n    </tr>\n  </tbody>\n</table>\n</div>"
     },
     "execution_count": 4,
     "metadata": {},
     "output_type": "execute_result"
    }
   ],
   "source": [
    "product_review_df['review_length'] = product_review_df['text'].apply(lambda row : len(row.split()))\n",
    "product_review_df.head()"
   ]
  },
  {
   "cell_type": "markdown",
   "metadata": {
    "id": "sH3kwsCbd6NA"
   },
   "source": [
    "What is the product (or products) with the maximum number of words in a single review?"
   ]
  },
  {
   "cell_type": "code",
   "execution_count": 5,
   "metadata": {
    "id": "MqCdnbaOkieH"
   },
   "outputs": [
    {
     "name": "stdout",
     "output_type": "stream",
     "text": [
      "Products with max review length:\n"
     ]
    },
    {
     "data": {
      "text/plain": "                                                 product  review_length\n15434  All-New Fire HD 8 Tablet, 8 HD Display, Wi-Fi,...           1539\n15435  All-New Fire HD 8 Tablet, 8 HD Display, Wi-Fi,...           1539\n18411  All-New Fire HD 8 Tablet, 8 HD Display, Wi-Fi,...           1539\n24278  Fire HD 8 Tablet with Alexa, 8 HD Display, 32 ...           1539",
      "text/html": "<div>\n<style scoped>\n    .dataframe tbody tr th:only-of-type {\n        vertical-align: middle;\n    }\n\n    .dataframe tbody tr th {\n        vertical-align: top;\n    }\n\n    .dataframe thead th {\n        text-align: right;\n    }\n</style>\n<table border=\"1\" class=\"dataframe\">\n  <thead>\n    <tr style=\"text-align: right;\">\n      <th></th>\n      <th>product</th>\n      <th>review_length</th>\n    </tr>\n  </thead>\n  <tbody>\n    <tr>\n      <th>15434</th>\n      <td>All-New Fire HD 8 Tablet, 8 HD Display, Wi-Fi,...</td>\n      <td>1539</td>\n    </tr>\n    <tr>\n      <th>15435</th>\n      <td>All-New Fire HD 8 Tablet, 8 HD Display, Wi-Fi,...</td>\n      <td>1539</td>\n    </tr>\n    <tr>\n      <th>18411</th>\n      <td>All-New Fire HD 8 Tablet, 8 HD Display, Wi-Fi,...</td>\n      <td>1539</td>\n    </tr>\n    <tr>\n      <th>24278</th>\n      <td>Fire HD 8 Tablet with Alexa, 8 HD Display, 32 ...</td>\n      <td>1539</td>\n    </tr>\n  </tbody>\n</table>\n</div>"
     },
     "execution_count": 5,
     "metadata": {},
     "output_type": "execute_result"
    }
   ],
   "source": [
    "print(\"Products with max review length:\")\n",
    "product_review_df[product_review_df['review_length'] == product_review_df['review_length'].max()][['product', 'review_length']]"
   ]
  },
  {
   "cell_type": "markdown",
   "metadata": {
    "id": "HGhjQQHvthqx"
   },
   "source": [
    "Create a new DataFrame that only contains products with number of reviews more than `1000`."
   ]
  },
  {
   "cell_type": "code",
   "execution_count": 6,
   "metadata": {
    "id": "ih8ZWYPhkYmX"
   },
   "outputs": [
    {
     "data": {
      "text/plain": "                       date  \\\n0      2015-10-30T08:59:32Z   \n1      2015-10-30T08:59:32Z   \n2      2015-10-30T08:59:32Z   \n3      2015-10-30T08:59:32Z   \n4      2015-10-30T08:59:32Z   \n...                     ...   \n28327  2017-03-06T14:59:43Z   \n28328  2017-03-06T14:59:43Z   \n28329  2017-03-06T14:59:43Z   \n28330  2017-03-06T14:59:43Z   \n28331  2017-03-06T14:59:43Z   \n\n                                                 product         category  \\\n0      AmazonBasics AAA Performance Alkaline Batterie...  Health & Beauty   \n1      AmazonBasics AAA Performance Alkaline Batterie...  Health & Beauty   \n2      AmazonBasics AAA Performance Alkaline Batterie...  Health & Beauty   \n3      AmazonBasics AAA Performance Alkaline Batterie...  Health & Beauty   \n4      AmazonBasics AAA Performance Alkaline Batterie...  Health & Beauty   \n...                                                  ...              ...   \n28327  Fire HD 8 Tablet with Alexa, 8 HD Display, 16 ...      Electronics   \n28328  Fire HD 8 Tablet with Alexa, 8 HD Display, 16 ...      Electronics   \n28329  Fire HD 8 Tablet with Alexa, 8 HD Display, 16 ...      Electronics   \n28330  Fire HD 8 Tablet with Alexa, 8 HD Display, 16 ...      Electronics   \n28331  Fire HD 8 Tablet with Alexa, 8 HD Display, 16 ...      Electronics   \n\n                                                    text              user  \\\n0      I order 3 of them and one of the item is bad q...        Byger yang   \n1      Bulk is always the less expensive way to go fo...              ByMG   \n2      Well they are not Duracell but for the price i...  BySharon Lambert   \n3      Seem to work as well as name brand batteries a...     Bymark sexson   \n4      These batteries are very long lasting the pric...           Bylinda   \n...                                                  ...               ...   \n28327  I got 2 of these for my 8 yr old twins. My 11 ...    Mom2twinsplus1   \n28328  I bought this for my niece for a Christmas gif...         fireman21   \n28329  Very nice for light internet browsing, keeping...    suzannalicious   \n28330  This Tablet does absolutely everything I want!...            SandyJ   \n28331  At ninety dollars, the expectionations are low...              Hung   \n\n       rating  review_length  \n0           3             31  \n1           4             13  \n2           5             12  \n3           5             14  \n4           5             10  \n...       ...            ...  \n28327       5             29  \n28328       4             18  \n28329       5             57  \n28330       5             43  \n28331       4             60  \n\n[22221 rows x 7 columns]",
      "text/html": "<div>\n<style scoped>\n    .dataframe tbody tr th:only-of-type {\n        vertical-align: middle;\n    }\n\n    .dataframe tbody tr th {\n        vertical-align: top;\n    }\n\n    .dataframe thead th {\n        text-align: right;\n    }\n</style>\n<table border=\"1\" class=\"dataframe\">\n  <thead>\n    <tr style=\"text-align: right;\">\n      <th></th>\n      <th>date</th>\n      <th>product</th>\n      <th>category</th>\n      <th>text</th>\n      <th>user</th>\n      <th>rating</th>\n      <th>review_length</th>\n    </tr>\n  </thead>\n  <tbody>\n    <tr>\n      <th>0</th>\n      <td>2015-10-30T08:59:32Z</td>\n      <td>AmazonBasics AAA Performance Alkaline Batterie...</td>\n      <td>Health &amp; Beauty</td>\n      <td>I order 3 of them and one of the item is bad q...</td>\n      <td>Byger yang</td>\n      <td>3</td>\n      <td>31</td>\n    </tr>\n    <tr>\n      <th>1</th>\n      <td>2015-10-30T08:59:32Z</td>\n      <td>AmazonBasics AAA Performance Alkaline Batterie...</td>\n      <td>Health &amp; Beauty</td>\n      <td>Bulk is always the less expensive way to go fo...</td>\n      <td>ByMG</td>\n      <td>4</td>\n      <td>13</td>\n    </tr>\n    <tr>\n      <th>2</th>\n      <td>2015-10-30T08:59:32Z</td>\n      <td>AmazonBasics AAA Performance Alkaline Batterie...</td>\n      <td>Health &amp; Beauty</td>\n      <td>Well they are not Duracell but for the price i...</td>\n      <td>BySharon Lambert</td>\n      <td>5</td>\n      <td>12</td>\n    </tr>\n    <tr>\n      <th>3</th>\n      <td>2015-10-30T08:59:32Z</td>\n      <td>AmazonBasics AAA Performance Alkaline Batterie...</td>\n      <td>Health &amp; Beauty</td>\n      <td>Seem to work as well as name brand batteries a...</td>\n      <td>Bymark sexson</td>\n      <td>5</td>\n      <td>14</td>\n    </tr>\n    <tr>\n      <th>4</th>\n      <td>2015-10-30T08:59:32Z</td>\n      <td>AmazonBasics AAA Performance Alkaline Batterie...</td>\n      <td>Health &amp; Beauty</td>\n      <td>These batteries are very long lasting the pric...</td>\n      <td>Bylinda</td>\n      <td>5</td>\n      <td>10</td>\n    </tr>\n    <tr>\n      <th>...</th>\n      <td>...</td>\n      <td>...</td>\n      <td>...</td>\n      <td>...</td>\n      <td>...</td>\n      <td>...</td>\n      <td>...</td>\n    </tr>\n    <tr>\n      <th>28327</th>\n      <td>2017-03-06T14:59:43Z</td>\n      <td>Fire HD 8 Tablet with Alexa, 8 HD Display, 16 ...</td>\n      <td>Electronics</td>\n      <td>I got 2 of these for my 8 yr old twins. My 11 ...</td>\n      <td>Mom2twinsplus1</td>\n      <td>5</td>\n      <td>29</td>\n    </tr>\n    <tr>\n      <th>28328</th>\n      <td>2017-03-06T14:59:43Z</td>\n      <td>Fire HD 8 Tablet with Alexa, 8 HD Display, 16 ...</td>\n      <td>Electronics</td>\n      <td>I bought this for my niece for a Christmas gif...</td>\n      <td>fireman21</td>\n      <td>4</td>\n      <td>18</td>\n    </tr>\n    <tr>\n      <th>28329</th>\n      <td>2017-03-06T14:59:43Z</td>\n      <td>Fire HD 8 Tablet with Alexa, 8 HD Display, 16 ...</td>\n      <td>Electronics</td>\n      <td>Very nice for light internet browsing, keeping...</td>\n      <td>suzannalicious</td>\n      <td>5</td>\n      <td>57</td>\n    </tr>\n    <tr>\n      <th>28330</th>\n      <td>2017-03-06T14:59:43Z</td>\n      <td>Fire HD 8 Tablet with Alexa, 8 HD Display, 16 ...</td>\n      <td>Electronics</td>\n      <td>This Tablet does absolutely everything I want!...</td>\n      <td>SandyJ</td>\n      <td>5</td>\n      <td>43</td>\n    </tr>\n    <tr>\n      <th>28331</th>\n      <td>2017-03-06T14:59:43Z</td>\n      <td>Fire HD 8 Tablet with Alexa, 8 HD Display, 16 ...</td>\n      <td>Electronics</td>\n      <td>At ninety dollars, the expectionations are low...</td>\n      <td>Hung</td>\n      <td>4</td>\n      <td>60</td>\n    </tr>\n  </tbody>\n</table>\n<p>22221 rows × 7 columns</p>\n</div>"
     },
     "execution_count": 6,
     "metadata": {},
     "output_type": "execute_result"
    }
   ],
   "source": [
    "filtered_products = product_review_df.groupby(['product']).count()['text'][(product_review_df.groupby(['product']).count()['text'] > 1000)].index\n",
    "product_review_df_post = product_review_df[product_review_df['product'].isin(filtered_products)]\n",
    "product_review_df_post"
   ]
  },
  {
   "cell_type": "markdown",
   "metadata": {
    "id": "AjIUrgLOV30q"
   },
   "source": [
    "Create a new DataFrame that only contains the ratings: 1, 2 and 5. Then create a new column `target`, whose value is 1 if rating is 5 and 0 otherwise."
   ]
  },
  {
   "cell_type": "code",
   "execution_count": 7,
   "metadata": {
    "id": "IwZJSbD9kc0h"
   },
   "outputs": [
    {
     "name": "stderr",
     "output_type": "stream",
     "text": [
      "/var/folders/k_/vgj1wdbx7sngfs9bhqsd6twm0000gn/T/ipykernel_72771/276333521.py:2: SettingWithCopyWarning: \n",
      "A value is trying to be set on a copy of a slice from a DataFrame.\n",
      "Try using .loc[row_indexer,col_indexer] = value instead\n",
      "\n",
      "See the caveats in the documentation: https://pandas.pydata.org/pandas-docs/stable/user_guide/indexing.html#returning-a-view-versus-a-copy\n",
      "  product_review_df_post['target'] = product_review_df_post['rating'].apply(lambda num: 1 if num == 5 else 0)\n"
     ]
    },
    {
     "data": {
      "text/plain": "                   date                                            product  \\\n2  2015-10-30T08:59:32Z  AmazonBasics AAA Performance Alkaline Batterie...   \n3  2015-10-30T08:59:32Z  AmazonBasics AAA Performance Alkaline Batterie...   \n4  2015-10-30T08:59:32Z  AmazonBasics AAA Performance Alkaline Batterie...   \n5  2015-10-30T08:59:32Z  AmazonBasics AAA Performance Alkaline Batterie...   \n6  2015-10-30T08:59:32Z  AmazonBasics AAA Performance Alkaline Batterie...   \n\n          category                                               text  \\\n2  Health & Beauty  Well they are not Duracell but for the price i...   \n3  Health & Beauty  Seem to work as well as name brand batteries a...   \n4  Health & Beauty  These batteries are very long lasting the pric...   \n5  Health & Beauty  Bought a lot of batteries for Christmas and th...   \n6  Health & Beauty  ive not had any problame with these batteries ...   \n\n                user  rating  review_length  target  \n2   BySharon Lambert       5             12       1  \n3      Bymark sexson       5             14       1  \n4            Bylinda       5             10       1  \n5   ByPainter Marlow       5             48       1  \n6  ByAmazon Customer       5             17       1  ",
      "text/html": "<div>\n<style scoped>\n    .dataframe tbody tr th:only-of-type {\n        vertical-align: middle;\n    }\n\n    .dataframe tbody tr th {\n        vertical-align: top;\n    }\n\n    .dataframe thead th {\n        text-align: right;\n    }\n</style>\n<table border=\"1\" class=\"dataframe\">\n  <thead>\n    <tr style=\"text-align: right;\">\n      <th></th>\n      <th>date</th>\n      <th>product</th>\n      <th>category</th>\n      <th>text</th>\n      <th>user</th>\n      <th>rating</th>\n      <th>review_length</th>\n      <th>target</th>\n    </tr>\n  </thead>\n  <tbody>\n    <tr>\n      <th>2</th>\n      <td>2015-10-30T08:59:32Z</td>\n      <td>AmazonBasics AAA Performance Alkaline Batterie...</td>\n      <td>Health &amp; Beauty</td>\n      <td>Well they are not Duracell but for the price i...</td>\n      <td>BySharon Lambert</td>\n      <td>5</td>\n      <td>12</td>\n      <td>1</td>\n    </tr>\n    <tr>\n      <th>3</th>\n      <td>2015-10-30T08:59:32Z</td>\n      <td>AmazonBasics AAA Performance Alkaline Batterie...</td>\n      <td>Health &amp; Beauty</td>\n      <td>Seem to work as well as name brand batteries a...</td>\n      <td>Bymark sexson</td>\n      <td>5</td>\n      <td>14</td>\n      <td>1</td>\n    </tr>\n    <tr>\n      <th>4</th>\n      <td>2015-10-30T08:59:32Z</td>\n      <td>AmazonBasics AAA Performance Alkaline Batterie...</td>\n      <td>Health &amp; Beauty</td>\n      <td>These batteries are very long lasting the pric...</td>\n      <td>Bylinda</td>\n      <td>5</td>\n      <td>10</td>\n      <td>1</td>\n    </tr>\n    <tr>\n      <th>5</th>\n      <td>2015-10-30T08:59:32Z</td>\n      <td>AmazonBasics AAA Performance Alkaline Batterie...</td>\n      <td>Health &amp; Beauty</td>\n      <td>Bought a lot of batteries for Christmas and th...</td>\n      <td>ByPainter Marlow</td>\n      <td>5</td>\n      <td>48</td>\n      <td>1</td>\n    </tr>\n    <tr>\n      <th>6</th>\n      <td>2015-10-30T08:59:32Z</td>\n      <td>AmazonBasics AAA Performance Alkaline Batterie...</td>\n      <td>Health &amp; Beauty</td>\n      <td>ive not had any problame with these batteries ...</td>\n      <td>ByAmazon Customer</td>\n      <td>5</td>\n      <td>17</td>\n      <td>1</td>\n    </tr>\n  </tbody>\n</table>\n</div>"
     },
     "execution_count": 7,
     "metadata": {},
     "output_type": "execute_result"
    }
   ],
   "source": [
    "product_review_df_post = product_review_df_post[product_review_df_post['rating'].isin([1,2,5])]\n",
    "product_review_df_post['target'] = product_review_df_post['rating'].apply(lambda num: 1 if num == 5 else 0)\n",
    "product_review_df_post.head()"
   ]
  },
  {
   "cell_type": "markdown",
   "metadata": {
    "id": "DfWvFKH2UROv"
   },
   "source": [
    "Define X and y from the new DataFrame, and then split X and y into training and testing sets, using the `text` and `product` as the only features and the `target` as the target variable.\n"
   ]
  },
  {
   "cell_type": "code",
   "execution_count": 8,
   "metadata": {
    "id": "MUezNeKlUROw"
   },
   "outputs": [],
   "source": [
    "X = product_review_df_post[['text', 'product']]\n",
    "y = product_review_df_post['target']\n",
    "X_train, X_test, y_train,y_test = train_test_split(X, y, test_size=0.2, random_state=2022, shuffle=True, stratify=y)"
   ]
  },
  {
   "cell_type": "markdown",
   "metadata": {
    "id": "kB6FycIWUROx"
   },
   "source": [
    "Use CountVectorizer to create **document-term matrices** from the column: `text` of **X_train** and **X_test**."
   ]
  },
  {
   "cell_type": "code",
   "execution_count": 9,
   "metadata": {
    "id": "ZZZ4qUD-UROy"
   },
   "outputs": [
    {
     "name": "stdout",
     "output_type": "stream",
     "text": [
      "(13724, 6762)\n",
      "(3432, 6762)\n"
     ]
    }
   ],
   "source": [
    "vectorizer = CountVectorizer()\n",
    "\n",
    "training_set_matrix = vectorizer.fit_transform(X_train['text'])\n",
    "test_set_matrix = vectorizer.transform(X_test['text'])\n",
    "\n",
    "print(training_set_matrix.shape)\n",
    "print(test_set_matrix.shape)"
   ]
  },
  {
   "cell_type": "markdown",
   "metadata": {
    "id": "uZcHMcTbFLB_"
   },
   "source": [
    "Use one-hot encoding to process the feature **product**.\n",
    "\n"
   ]
  },
  {
   "cell_type": "code",
   "execution_count": 10,
   "outputs": [
    {
     "name": "stdout",
     "output_type": "stream",
     "text": [
      "['x0_All-New Fire HD 8 Tablet, 8 HD Display, Wi-Fi, 16 GB - Includes Special Offers, Black'\n",
      " 'x0_AmazonBasics AA Performance Alkaline Batteries (48 Count) - Packaging May Vary'\n",
      " 'x0_AmazonBasics AAA Performance Alkaline Batteries (36 Count)'\n",
      " 'x0_Fire HD 8 Tablet with Alexa, 8 HD Display, 16 GB, Tangerine - with Special Offers'\n",
      " 'x0_Fire Kids Edition Tablet, 7 Display, Wi-Fi, 16 GB, Blue Kid-Proof Case'\n",
      " 'x0_Fire Kids Edition Tablet, 7 Display, Wi-Fi, 16 GB, Green Kid-Proof Case'\n",
      " 'x0_Fire Kids Edition Tablet, 7 Display, Wi-Fi, 16 GB, Pink Kid-Proof Case'\n",
      " 'x0_Fire Tablet, 7 Display, Wi-Fi, 16 GB - Includes Special Offers, Black']\n",
      "(13724, 8)\n",
      "(3432, 8)\n"
     ]
    }
   ],
   "source": [
    "enc = OneHotEncoder(handle_unknown='ignore').fit(X_train[['product']])\n",
    "\n",
    "training_set_one_hot_encoded = enc.transform(X_train[['product']])\n",
    "test_set_one_hot_encoded = enc.transform(X_test[['product']])\n",
    "\n",
    "print(enc.get_feature_names())\n",
    "print(training_set_one_hot_encoded.shape)\n",
    "print(test_set_one_hot_encoded.shape)"
   ],
   "metadata": {
    "collapsed": false
   }
  },
  {
   "cell_type": "markdown",
   "metadata": {
    "id": "4PmolNHIFgz_"
   },
   "source": [
    "Concatenate the feature matrices from **CountVectorizer** and **one hot encoding** for both train and test datasets."
   ]
  },
  {
   "cell_type": "code",
   "execution_count": 11,
   "metadata": {
    "id": "3t-rxQVOGiOg"
   },
   "outputs": [
    {
     "data": {
      "text/plain": "(13724, 6770)"
     },
     "execution_count": 11,
     "metadata": {},
     "output_type": "execute_result"
    }
   ],
   "source": [
    "training_set = hstack([training_set_matrix, training_set_one_hot_encoded]).toarray()\n",
    "test_set = hstack([test_set_matrix, test_set_one_hot_encoded]).toarray()\n",
    "training_set.shape"
   ]
  },
  {
   "cell_type": "markdown",
   "metadata": {
    "id": "CfnYOAL4Kncb"
   },
   "source": [
    "create a chatbot using the concepts of vectorization and cosine similarity. For the purposes of the chatbot that you will create, you will be using a repository of questions and answers gathered from\n",
    "online shopping website for electronic items. Being trained on Q&A data for electronic items,your chatbot could be deployed as automated Q&A support under the Electronic Items section. The corpus **Electronics_QA.json** is in a JavaScript Object Notation (JSON)-like format. It contains multiple features for each pair of Q&A, but you will only use the feautres **question** and **answer**."
   ]
  },
  {
   "cell_type": "markdown",
   "metadata": {},
   "source": [
    "## Import libraries"
   ]
  },
  {
   "cell_type": "code",
   "execution_count": 135,
   "metadata": {},
   "outputs": [],
   "source": [
    "import numpy as np\n",
    "from sklearn.feature_extraction.text import TfidfTransformer\n",
    "from sklearn.metrics.pairwise import cosine_similarity\n",
    "from sklearn.feature_extraction.text import CountVectorizer\n",
    "\n",
    "#library for loading json file\n",
    "import ast\n",
    "import json\n",
    "\n",
    "# import other libraries/functions if they are needed in your coding\n",
    "from nltk.corpus import stopwords\n",
    "import math\n",
    "import warnings"
   ]
  },
  {
   "cell_type": "markdown",
   "metadata": {},
   "source": [
    "\n"
   ]
  },
  {
   "cell_type": "code",
   "execution_count": 136,
   "metadata": {},
   "outputs": [
    {
     "name": "stderr",
     "output_type": "stream",
     "text": [
      "Exception ignored in: <_io.FileIO name='Electronics_QA.json' mode='rb' closefd=True>\n",
      "Traceback (most recent call last):\n",
      "  File \"/var/folders/k_/vgj1wdbx7sngfs9bhqsd6twm0000gn/T/ipykernel_72771/4092241544.py\", line 1, in <module>\n",
      "ResourceWarning: unclosed file <_io.TextIOWrapper name='Electronics_QA.json' mode='r' encoding='UTF-8'>\n"
     ]
    },
    {
     "name": "stdout",
     "output_type": "stream",
     "text": [
      "314263\n",
      "314263\n"
     ]
    }
   ],
   "source": [
    "file_read = open('Electronics_QA.json', 'r')\n",
    "corpus = file_read.read()\n",
    "prev = 0\n",
    "qa_list = []\n",
    "for i in range(len(corpus)):\n",
    "    if corpus[i:i+1] == \"\\n\":\n",
    "        qa_list.append(ast.literal_eval(corpus[prev:i]))\n",
    "        prev = i\n",
    "\n",
    "questions = []\n",
    "answers = []\n",
    "for dict in qa_list:\n",
    "    questions.append(dict['question'].lower())\n",
    "    answers.append(dict['answer'].lower())\n",
    "\n",
    "file_read.close()\n",
    "print(len(answers))\n",
    "print(len(questions))"
   ]
  },
  {
   "cell_type": "markdown",
   "metadata": {},
   "source": [
    "Use `CountVectorizer` module of the sklearn library to convert the questions list into a sparse matrix and apply TF-IDF transformation. This will generate a repository matrix."
   ]
  },
  {
   "cell_type": "code",
   "execution_count": 138,
   "outputs": [
    {
     "data": {
      "text/plain": "<314263x69189 sparse matrix of type '<class 'numpy.float64'>'\n\twith 2033712 stored elements in Compressed Sparse Row format>"
     },
     "execution_count": 138,
     "metadata": {},
     "output_type": "execute_result"
    }
   ],
   "source": [
    "stop = stopwords.words('english')\n",
    "vectorizer = CountVectorizer(stop_words = 'english')\n",
    "word_count_vector = vectorizer.fit_transform(questions)\n",
    "transformer = TfidfTransformer(smooth_idf=True, use_idf=True)\n",
    "tf_idf_matrix = transformer.fit_transform(word_count_vector)\n",
    "tf_idf_matrix"
   ],
   "metadata": {
    "collapsed": false
   }
  },
  {
   "cell_type": "markdown",
   "metadata": {},
   "source": [
    "- Calculate the angle between every row of the repository matrix and the new question vector. Use the sklearn library's `cosine_similarity` module to calculate the cosine between each row and the vector, and then convert the cosine into degrees by using numpy library's function `rad2deg`. (1 mark)\n",
    "- Search the row that has the maximum cosine (or the minimum angle) with the new question vector and return the corresponding answer to that question as the response. If the smallest angle between the question vector and every row of the matrix is greater than a threshold value, i.e., 60,then you consider that question to be different enough and return a message that states the chatbot cannot understand the question. (1 mark)"
   ]
  },
  {
   "cell_type": "code",
   "execution_count": 143,
   "metadata": {},
   "outputs": [],
   "source": [
    "def conversation(im):\n",
    "    new_im = transformer.transform(vectorizer.transform([im]))\n",
    "    cos_similarity = cosine_similarity(new_im,tf_idf_matrix)\n",
    "    degree_array = np.array(list(map(to_degree_array,cos_similarity[0])))\n",
    "    min_degrees = degree_array.min()\n",
    "    if min_degrees > 60:\n",
    "        return \"chatbot cannot understand the question\"\n",
    "    else:\n",
    "        return answers[np.argmin(degree_array)]\n",
    "\n",
    "def to_degree_array(num):\n",
    "    warnings.filterwarnings('error')\n",
    "    try:\n",
    "        return np.rad2deg(np.arccos(num))\n",
    "    except Warning:\n",
    "        if num > 1:\n",
    "            return np.rad2deg(np.arccos(1))\n",
    "        else:\n",
    "            return np.rad2deg(np.arccos(0))"
   ]
  },
  {
   "cell_type": "markdown",
   "metadata": {},
   "source": [
    "- The user enters their username and is then greeted by the chatbot\n",
    "- The chat is initiated with the user asking questions and the bot providing a response based on the `conversation` function created earlier\n",
    "- The chat continues until the user types 'bye'.\n",
    "\n",
    "- Please demonstrate the interactions with your chatbot using the functions that you have generated."
   ]
  },
  {
   "cell_type": "code",
   "execution_count": 154,
   "outputs": [],
   "source": [
    " def main():\n",
    "    name = input(\"Please enter your username: \")\n",
    "    print(\"Welcome home {name}\".format(name = name))\n",
    "    conversation_getter()\n",
    "\n",
    "def conversation_getter():\n",
    "    #get question\n",
    "    query = input(\"What would you like to know?\")\n",
    "    if query.lower() == 'bye':\n",
    "        return print(\"Thank you for coming!\")\n",
    "    else:\n",
    "        print(conversation(query))\n",
    "        return conversation_getter()"
   ],
   "metadata": {
    "collapsed": false
   }
  },
  {
   "cell_type": "code",
   "execution_count": 155,
   "outputs": [
    {
     "name": "stdout",
     "output_type": "stream",
     "text": [
      "Welcome home Noah\n",
      "you are looking at this item on amazon and asking how much it costs????\n",
      "no manual comes with the tablet, but i think it is available online.\n",
      "Thank you for coming!\n"
     ]
    }
   ],
   "source": [
    "main()"
   ],
   "metadata": {
    "collapsed": false
   }
  }
 ],
 "metadata": {
  "colab": {
   "name": "bt4222_programming_test [2022].ipynb",
   "provenance": []
  },
  "kernelspec": {
   "name": "python3",
   "language": "python",
   "display_name": "Python 3 (ipykernel)"
  },
  "language_info": {
   "codemirror_mode": {
    "name": "ipython",
    "version": 3
   },
   "file_extension": ".py",
   "mimetype": "text/x-python",
   "name": "python",
   "nbconvert_exporter": "python",
   "pygments_lexer": "ipython3",
   "version": "3.8.13"
  }
 },
 "nbformat": 4,
 "nbformat_minor": 1
}
